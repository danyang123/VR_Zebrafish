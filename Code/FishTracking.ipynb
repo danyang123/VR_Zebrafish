{
 "cells": [
  {
   "cell_type": "markdown",
   "metadata": {},
   "source": [
    "# Image processing for tracking larva trajectory and tail kinematic"
   ]
  },
  {
   "cell_type": "markdown",
   "metadata": {},
   "source": [
    "\n",
    "Author: [Adrien Jouary](http://www.ibens.ens.fr/spip.php?rubrique23&lang=fr)\n",
    "To be published\n",
    "\n",
    "DOI: ??? URL: <http://???>/\n",
    "\n",
    "\n",
    "This [Jupyter](http://jupyter.org/) notebook is an electronic supplementry material of the article.\n"
   ]
  },
  {
   "cell_type": "markdown",
   "metadata": {},
   "source": [
    "## Load configuration, function and plotting style configuration"
   ]
  },
  {
   "cell_type": "code",
   "execution_count": 4,
   "metadata": {},
   "outputs": [],
   "source": [
    "from __future__ import print_function\n",
    "from ipywidgets import interact, interactive, fixed, interact_manual\n",
    "import ipywidgets as widgets\n",
    "%run  FunctionImageTracking.py\n",
    "%matplotlib inline"
   ]
  },
  {
   "cell_type": "markdown",
   "metadata": {},
   "source": [
    "## Image Processing"
   ]
  },
  {
   "cell_type": "markdown",
   "metadata": {},
   "source": [
    "### Compute Head Position and Orientation:"
   ]
  },
  {
   "cell_type": "code",
   "execution_count": 2,
   "metadata": {},
   "outputs": [
    {
     "data": {
      "application/vnd.jupyter.widget-view+json": {
       "model_id": "27d4147691db4189932c6051cd37e915",
       "version_major": 2,
       "version_minor": 0
      },
      "text/plain": [
       "interactive(children=(IntSlider(value=16, description='k', max=33), Output()), _dom_classes=('widget-interact'…"
      ]
     },
     "metadata": {},
     "output_type": "display_data"
    },
    {
     "data": {
      "text/plain": [
       "<function __main__.ImageProcessing(k)>"
      ]
     },
     "execution_count": 2,
     "metadata": {},
     "output_type": "execute_result"
    }
   ],
   "source": [
    "def ImageProcessing(k):\n",
    "    \n",
    "    img=plt.imread('../Data/ImgLarva/ImgLarva'+str(k)+'.tif')\n",
    "    BwBody=Binarize(img,50)\n",
    "    BwHead=img<25 \n",
    "    BwHead = skimage.morphology.remove_small_objects(BwHead>0,100)  \n",
    "    BwHead=BwHead+0\n",
    "    props=skimage.measure.regionprops(BwHead)[0]\n",
    "    ell=FitEllipse(BwHead)\n",
    "    ell.Angle=ell.Angle+pi/2\n",
    "    X=np.nonzero(BwBody)\n",
    "    if (sum((X[0]-ell.cx)*np.cos(ell.Angle)+(X[1]-ell.cy)*np.sin(ell.Angle)))>0:\n",
    "        ell.Angle=ell.Angle+pi\n",
    "    \n",
    "    \n",
    "    \n",
    "    plt.imshow(img, cmap=plt.cm.gray)\n",
    "    plt.scatter(ell.cx,ell.cy,s=10,c=[1,0,0])\n",
    "    \n",
    "    plt.arrow(ell.cx,ell.cy,50*np.cos(ell.Angle),50*np.sin(ell.Angle), head_width=11, head_length=10, fc=Re, ec=Re,linewidth=1)\n",
    "    \n",
    "    plt.xticks([])\n",
    "    plt.yticks([])\n",
    "    \n",
    "interact(ImageProcessing,k=(0,33,1))      "
   ]
  },
  {
   "cell_type": "markdown",
   "metadata": {},
   "source": [
    "### Compute Tail Deflection:"
   ]
  },
  {
   "cell_type": "code",
   "execution_count": 5,
   "metadata": {
    "scrolled": true
   },
   "outputs": [
    {
     "data": {
      "application/vnd.jupyter.widget-view+json": {
       "model_id": "143914608d38494bb28eec5fb08a3371",
       "version_major": 2,
       "version_minor": 0
      },
      "text/plain": [
       "interactive(children=(IntSlider(value=16, description='k', max=33), Output()), _dom_classes=('widget-interact'…"
      ]
     },
     "metadata": {},
     "output_type": "display_data"
    },
    {
     "data": {
      "text/plain": [
       "<function __main__.ImageProcessing(k)>"
      ]
     },
     "execution_count": 5,
     "metadata": {},
     "output_type": "execute_result"
    }
   ],
   "source": [
    "def ImageProcessing(k):\n",
    "    img=plt.imread('../Data/ImgLarva/ImgLarva'+str(k)+'.tif')\n",
    "    BwBody=Binarize(img,49)\n",
    "    \n",
    "    Ellipse0=FitEllipse(BwBody)\n",
    "    \n",
    "    SplitEllipse(BwBody,img,Ellipse0,1)\n",
    "    \n",
    "    \n",
    "interact(ImageProcessing,k=(0,33,1))      "
   ]
  },
  {
   "cell_type": "code",
   "execution_count": null,
   "metadata": {},
   "outputs": [],
   "source": []
  }
 ],
 "metadata": {
  "kernelspec": {
   "display_name": "Python 3",
   "language": "python",
   "name": "python3"
  },
  "language_info": {
   "codemirror_mode": {
    "name": "ipython",
    "version": 3
   },
   "file_extension": ".py",
   "mimetype": "text/x-python",
   "name": "python",
   "nbconvert_exporter": "python",
   "pygments_lexer": "ipython3",
   "version": "3.6.8"
  }
 },
 "nbformat": 4,
 "nbformat_minor": 2
}
